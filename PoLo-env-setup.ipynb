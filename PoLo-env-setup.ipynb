{
  "nbformat": 4,
  "nbformat_minor": 0,
  "metadata": {
    "colab": {
      "name": "PoLo.ipynb",
      "provenance": [],
      "collapsed_sections": [],
      "toc_visible": true
    },
    "kernelspec": {
      "name": "python3",
      "display_name": "Python 3"
    },
    "language_info": {
      "name": "python"
    }
  },
  "cells": [
    {
      "cell_type": "markdown",
      "metadata": {
        "id": "Hy2Dgt7qmFpa"
      },
      "source": [
        "### Install Conda in colab"
      ]
    },
    {
      "cell_type": "code",
      "metadata": {
        "colab": {
          "base_uri": "https://localhost:8080/"
        },
        "id": "5Rvq4RIKT8t0",
        "outputId": "bf975da4-58cf-4c85-b2fc-66a373920d22"
      },
      "source": [
        "!pip install condacolab"
      ],
      "execution_count": 4,
      "outputs": [
        {
          "output_type": "stream",
          "name": "stdout",
          "text": [
            "Collecting condacolab\n",
            "  Downloading condacolab-0.1.3-py3-none-any.whl (6.8 kB)\n",
            "Installing collected packages: condacolab\n",
            "Successfully installed condacolab-0.1.3\n"
          ]
        }
      ]
    },
    {
      "cell_type": "code",
      "metadata": {
        "id": "hZTYuiiIUENR"
      },
      "source": [
        "import condacolab"
      ],
      "execution_count": 5,
      "outputs": []
    },
    {
      "cell_type": "code",
      "metadata": {
        "colab": {
          "base_uri": "https://localhost:8080/"
        },
        "id": "GJ0NxyiTaddX",
        "outputId": "39c075be-8d4a-4c91-80d4-665dbe920b2e"
      },
      "source": [
        "condacolab.install()"
      ],
      "execution_count": 6,
      "outputs": [
        {
          "output_type": "stream",
          "name": "stdout",
          "text": [
            "⏬ Downloading https://github.com/jaimergp/miniforge/releases/latest/download/Mambaforge-colab-Linux-x86_64.sh...\n",
            "📦 Installing...\n",
            "📌 Adjusting configuration...\n",
            "🩹 Patching environment...\n",
            "⏲ Done in 0:00:41\n",
            "🔁 Restarting kernel...\n"
          ]
        }
      ]
    },
    {
      "cell_type": "code",
      "metadata": {
        "colab": {
          "base_uri": "https://localhost:8080/"
        },
        "id": "9PSfSjE2afYt",
        "outputId": "78e1c1d2-b3fc-4c23-caae-bf87094466d7"
      },
      "source": [
        "!conda --version"
      ],
      "execution_count": 1,
      "outputs": [
        {
          "output_type": "stream",
          "name": "stdout",
          "text": [
            "conda 4.9.2\n"
          ]
        }
      ]
    },
    {
      "cell_type": "markdown",
      "metadata": {
        "id": "zt6yea2JmP4R"
      },
      "source": [
        "### Clone the PoLo repository "
      ]
    },
    {
      "cell_type": "code",
      "metadata": {
        "colab": {
          "base_uri": "https://localhost:8080/"
        },
        "id": "C3p31_-EauKQ",
        "outputId": "b01ad331-9b9f-4c1f-c320-a5ef259b7fca"
      },
      "source": [
        "!git clone https://github.com/liu-yushan/PoLo.git"
      ],
      "execution_count": 2,
      "outputs": [
        {
          "output_type": "stream",
          "name": "stdout",
          "text": [
            "Cloning into 'PoLo'...\n",
            "remote: Enumerating objects: 154, done.\u001b[K\n",
            "remote: Counting objects: 100% (15/15), done.\u001b[K\n",
            "remote: Compressing objects: 100% (15/15), done.\u001b[K\n",
            "remote: Total 154 (delta 4), reused 0 (delta 0), pack-reused 139\u001b[K\n",
            "Receiving objects: 100% (154/154), 87.17 MiB | 21.86 MiB/s, done.\n",
            "Resolving deltas: 100% (44/44), done.\n",
            "Checking out files: 100% (54/54), done.\n"
          ]
        }
      ]
    },
    {
      "cell_type": "code",
      "metadata": {
        "colab": {
          "base_uri": "https://localhost:8080/"
        },
        "id": "4KYzSwD2azFV",
        "outputId": "866e1c1e-1ed7-4630-d59c-e35f4a7f165a"
      },
      "source": [
        "cd PoLo/"
      ],
      "execution_count": 3,
      "outputs": [
        {
          "output_type": "stream",
          "name": "stdout",
          "text": [
            "/content/PoLo\n"
          ]
        }
      ]
    },
    {
      "cell_type": "code",
      "metadata": {
        "colab": {
          "base_uri": "https://localhost:8080/"
        },
        "id": "JGkisz2Ra4r2",
        "outputId": "9e60d993-3604-426d-b496-78ac23664cd7"
      },
      "source": [
        "ls"
      ],
      "execution_count": 4,
      "outputs": [
        {
          "output_type": "stream",
          "name": "stdout",
          "text": [
            "\u001b[0m\u001b[01;34mconfigs\u001b[0m/   LICENSE  \u001b[01;34mmycode\u001b[0m/    requirements.txt\n",
            "\u001b[01;34mdatasets\u001b[0m/  \u001b[01;34mmodels\u001b[0m/  README.md  run.sh\n"
          ]
        }
      ]
    },
    {
      "cell_type": "markdown",
      "metadata": {
        "id": "3fNu3eYEmhwC"
      },
      "source": [
        "### Now setup environment from requirements.txt  \n",
        "Note that this is conda environement. Dry run the following steps to get through the installation of all the dependencies requried for playing with PoLo"
      ]
    },
    {
      "cell_type": "code",
      "metadata": {
        "colab": {
          "base_uri": "https://localhost:8080/"
        },
        "id": "_J7uW16EfR-F",
        "outputId": "626fd4a1-21bf-4ba6-9426-c59bf5632278"
      },
      "source": [
        "!conda install --file requirements.txt"
      ],
      "execution_count": 5,
      "outputs": [
        {
          "output_type": "stream",
          "name": "stdout",
          "text": [
            "Collecting package metadata (current_repodata.json): - \b\b\\ \b\b| \b\b/ \b\b- \b\b\\ \b\b| \b\b/ \b\b- \b\b\\ \b\b| \b\b/ \b\b- \b\b\\ \b\b| \b\b/ \b\b- \b\b\\ \b\b| \b\b/ \b\b- \b\b\\ \b\b| \b\b/ \b\b- \b\b\\ \b\b| \b\b/ \b\b- \b\b\\ \b\b| \b\b/ \b\b- \b\b\\ \b\b| \b\b/ \b\b- \b\b\\ \b\b| \b\b/ \b\b- \b\b\\ \b\b| \b\b/ \b\b- \b\b\\ \b\b| \b\b/ \b\b- \b\b\\ \b\b| \b\b/ \b\b- \b\b\\ \b\b| \b\b/ \b\b- \b\b\\ \b\b| \b\b/ \b\b- \b\b\\ \b\b| \b\b/ \b\b- \b\b\\ \b\b| \b\b/ \b\b- \b\b\\ \b\b| \b\b/ \b\b- \b\b\\ \b\b| \b\b/ \b\b- \b\b\\ \b\b| \b\b/ \b\bdone\n",
            "Solving environment: \\ \b\bfailed with initial frozen solve. Retrying with flexible solve.\n",
            "Collecting package metadata (repodata.json): / \b\b- \b\b\\ \b\b| \b\b/ \b\b- \b\b\\ \b\b| \b\b/ \b\b- \b\b\\ \b\b| \b\b/ \b\b- \b\b\\ \b\b| \b\b/ \b\b- \b\b\\ \b\b| \b\b/ \b\b- \b\b\\ \b\b| \b\b/ \b\b- \b\b\\ \b\b| \b\b/ \b\b- \b\b\\ \b\b| \b\b/ \b\b- \b\b\\ \b\b| \b\b/ \b\b- \b\b\\ \b\b| \b\b/ \b\b- \b\b\\ \b\b| \b\b/ \b\b- \b\b\\ \b\b| \b\b/ \b\b- \b\b\\ \b\b| \b\b/ \b\b- \b\b\\ \b\b| \b\b/ \b\b- \b\b\\ \b\b| \b\b/ \b\b- \b\b\\ \b\b| \b\b/ \b\b- \b\b\\ \b\b| \b\b/ \b\b- \b\b\\ \b\b| \b\b/ \b\b- \b\b\\ \b\b| \b\b/ \b\b- \b\b\\ \b\b| \b\b/ \b\b- \b\b\\ \b\b| \b\b/ \b\b- \b\b\\ \b\b| \b\b/ \b\b- \b\b\\ \b\b| \b\b/ \b\b- \b\b\\ \b\b| \b\b/ \b\b- \b\b\\ \b\b| \b\b/ \b\b- \b\b\\ \b\b| \b\b/ \b\b- \b\b\\ \b\b| \b\b/ \b\b- \b\b\\ \b\b| \b\b/ \b\b- \b\b\\ \b\b| \b\b/ \b\b- \b\b\\ \b\b| \b\b/ \b\b- \b\b\\ \b\b| \b\b/ \b\b- \b\b\\ \b\b| \b\b/ \b\b- \b\b\\ \b\b| \b\b/ \b\b- \b\b\\ \b\b| \b\b/ \b\b- \b\b\\ \b\b| \b\b/ \b\b- \b\b\\ \b\b| \b\b/ \b\b- \b\b\\ \b\b| \b\b/ \b\b- \b\b\\ \b\b| \b\b/ \b\b- \b\b\\ \b\b| \b\b/ \b\b- \b\b\\ \b\b| \b\b/ \b\b- \b\b\\ \b\b| \b\b/ \b\b- \b\b\\ \b\b| \b\b/ \b\b- \b\b\\ \b\b| \b\b/ \b\b- \b\b\\ \b\b| \b\b/ \b\b- \b\b\\ \b\b| \b\b/ \b\b- \b\b\\ \b\b| \b\b/ \b\b- \b\b\\ \b\b| \b\b/ \b\b- \b\b\\ \b\b| \b\b/ \b\b- \b\b\\ \b\b| \b\b/ \b\b- \b\b\\ \b\b| \b\b/ \b\b- \b\b\\ \b\b| \b\b/ \b\b- \b\b\\ \b\b| \b\b/ \b\b- \b\b\\ \b\b| \b\b/ \b\b- \b\b\\ \b\b| \b\b/ \b\b- \b\b\\ \b\b| \b\b/ \b\b- \b\b\\ \b\b| \b\b/ \b\b- \b\b\\ \b\b| \b\b/ \b\b- \b\b\\ \b\b| \b\b/ \b\b- \b\b\\ \b\b| \b\b/ \b\b- \b\b\\ \b\b| \b\b/ \b\b- \b\b\\ \b\b| \b\b/ \b\b- \b\b\\ \b\b| \b\b/ \b\b- \b\b\\ \b\b| \b\b/ \b\b- \b\b\\ \b\b| \b\b/ \b\b- \b\b\\ \b\b| \b\b/ \b\b- \b\b\\ \b\b| \b\b/ \b\b- \b\b\\ \b\b| \b\b/ \b\b- \b\b\\ \b\b| \b\b/ \b\b- \b\b\\ \b\b| \b\b/ \b\b- \b\b\\ \b\b| \b\b/ \b\bdone\n",
            "Solving environment: \\ \b\bfailed with initial frozen solve. Retrying with flexible solve.\n",
            "\n",
            "PackagesNotFoundError: The following packages are not available from current channels:\n",
            "\n",
            "  - tensorflow==2.4.1=mkl_py37h2d14ff2_0\n",
            "  - _tflow_select==2.3.0=mkl\n",
            "  - tensorflow-estimator==2.4.1=pyheb71bc4_0\n",
            "  - tensorflow-base==2.4.1=mkl_py37h43e0292_0\n",
            "\n",
            "Current channels:\n",
            "\n",
            "  - https://conda.anaconda.org/conda-forge/linux-64\n",
            "  - https://conda.anaconda.org/conda-forge/noarch\n",
            "\n",
            "To search for alternate channels that may provide the conda package you're\n",
            "looking for, navigate to\n",
            "\n",
            "    https://anaconda.org\n",
            "\n",
            "and use the search bar at the top of the page.\n",
            "\n",
            "\n"
          ]
        }
      ]
    },
    {
      "cell_type": "code",
      "metadata": {
        "id": "MRz3BQYwnISY"
      },
      "source": [
        "### Note\n",
        "see the conda is broken merely after 6 months (as of now and don\\''t get serious, I am just speculating) so now we install it manually using our little brain."
      ],
      "execution_count": null,
      "outputs": []
    },
    {
      "cell_type": "markdown",
      "metadata": {
        "id": "a6GfamI3n-IC"
      },
      "source": [
        "### By looking at this https://anaconda.org/conda-forge/tensorflow, we are installing `tensorflow` with `2.4.1`"
      ]
    },
    {
      "cell_type": "code",
      "metadata": {
        "colab": {
          "base_uri": "https://localhost:8080/"
        },
        "id": "4t8zuu-XfhMg",
        "outputId": "6c011b09-43c9-4c48-cfe9-f2f78690f339"
      },
      "source": [
        "!conda install -c conda-forge tensorflow==2.4.1"
      ],
      "execution_count": 7,
      "outputs": [
        {
          "output_type": "stream",
          "name": "stdout",
          "text": [
            "Collecting package metadata (current_repodata.json): - \b\b\\ \b\b| \b\b/ \b\b- \b\b\\ \b\b| \b\b/ \b\b- \b\b\\ \b\b| \b\b/ \b\b- \b\b\\ \b\b| \b\b/ \b\b- \b\b\\ \b\b| \b\b/ \b\b- \b\b\\ \b\b| \b\b/ \b\b- \b\b\\ \b\b| \b\b/ \b\b- \b\b\\ \b\b| \b\b/ \b\b- \b\b\\ \b\b| \b\b/ \b\b- \b\b\\ \b\b| \b\b/ \b\b- \b\bdone\n",
            "Solving environment: | \b\b/ \b\b- \b\b\\ \b\b| \b\b/ \b\b- \b\b\\ \b\b| \b\b/ \b\b- \b\b\\ \b\b| \b\b/ \b\b- \b\b\\ \b\b| \b\b/ \b\b- \b\b\\ \b\b| \b\b/ \b\b- \b\b\\ \b\b| \b\b/ \b\b- \b\b\\ \b\b| \b\b/ \b\b- \b\b\\ \b\b| \b\b/ \b\b- \b\b\\ \b\b| \b\b/ \b\b- \b\b\\ \b\b| \b\b/ \b\b- \b\b\\ \b\b| \b\b/ \b\b- \b\b\\ \b\b| \b\b/ \b\b- \b\b\\ \b\b| \b\b/ \b\b- \b\b\\ \b\b| \b\b/ \b\b- \b\b\\ \b\b| \b\b/ \b\b- \b\b\\ \b\b| \b\b/ \b\b- \b\b\\ \b\b| \b\b/ \b\b- \b\b\\ \b\b| \b\b/ \b\b- \b\b\\ \b\b| \b\b/ \b\b- \b\b\\ \b\b| \b\b/ \b\b- \b\b\\ \b\b| \b\b/ \b\b- \b\b\\ \b\bfailed with initial frozen solve. Retrying with flexible solve.\n",
            "Solving environment: / \b\b- \b\b\\ \b\b| \b\b/ \b\b- \b\b\\ \b\b| \b\b/ \b\b- \b\b\\ \b\b| \b\b/ \b\b- \b\b\\ \b\b| \b\b/ \b\b- \b\b\\ \b\b| \b\b/ \b\b- \b\b\\ \b\b| \b\b/ \b\b- \b\b\\ \b\b| \b\b/ \b\b- \b\b\\ \b\b| \b\b/ \b\b- \b\b\\ \b\b| \b\b/ \b\b- \b\b\\ \b\b| \b\b/ \b\b- \b\b\\ \b\b| \b\b/ \b\b- \b\b\\ \b\b| \b\b/ \b\b- \b\b\\ \b\b| \b\b/ \b\b- \b\b\\ \b\b| \b\b/ \b\b- \b\b\\ \b\b| \b\b/ \b\b- \b\b\\ \b\b| \b\b/ \b\b- \b\b\\ \b\b| \b\b/ \b\b- \b\b\\ \b\b| \b\b/ \b\b- \b\b\\ \b\b| \b\b/ \b\b- \b\b\\ \b\b| \b\b/ \b\b- \b\b\\ \b\b| \b\b/ \b\b- \b\b\\ \b\b| \b\b/ \b\b- \b\b\\ \b\b| \b\b/ \b\b- \b\b\\ \b\b| \b\b/ \b\b- \b\b\\ \b\b| \b\b/ \b\b- \b\bfailed with repodata from current_repodata.json, will retry with next repodata source.\n",
            "Collecting package metadata (repodata.json): | \b\b/ \b\b- \b\b\\ \b\b| \b\b/ \b\b- \b\b\\ \b\b| \b\b/ \b\b- \b\b\\ \b\b| \b\b/ \b\b- \b\b\\ \b\b| \b\b/ \b\b- \b\b\\ \b\b| \b\b/ \b\b- \b\b\\ \b\b| \b\b/ \b\b- \b\b\\ \b\b| \b\b/ \b\b- \b\b\\ \b\b| \b\b/ \b\b- \b\b\\ \b\b| \b\b/ \b\b- \b\b\\ \b\b| \b\b/ \b\b- \b\b\\ \b\b| \b\b/ \b\b- \b\b\\ \b\b| \b\b/ \b\b- \b\b\\ \b\b| \b\b/ \b\b- \b\b\\ \b\b| \b\b/ \b\b- \b\b\\ \b\b| \b\b/ \b\b- \b\b\\ \b\b| \b\b/ \b\b- \b\b\\ \b\b| \b\b/ \b\b- \b\b\\ \b\b| \b\b/ \b\b- \b\b\\ \b\b| \b\b/ \b\b- \b\b\\ \b\b| \b\b/ \b\b- \b\b\\ \b\b| \b\b/ \b\b- \b\b\\ \b\b| \b\b/ \b\b- \b\b\\ \b\b| \b\b/ \b\b- \b\b\\ \b\b| \b\b/ \b\b- \b\b\\ \b\b| \b\b/ \b\b- \b\b\\ \b\b| \b\b/ \b\b- \b\b\\ \b\b| \b\b/ \b\b- \b\bdone\n",
            "Solving environment: | \b\b/ \b\b- \b\b\\ \b\b| \b\b/ \b\b- \b\b\\ \b\b| \b\b/ \b\b- \b\b\\ \b\b| \b\b/ \b\b- \b\b\\ \b\b| \b\b/ \b\b- \b\b\\ \b\b| \b\b/ \b\b- \b\b\\ \b\b| \b\b/ \b\b- \b\b\\ \b\b| \b\b/ \b\b- \b\b\\ \b\b| \b\b/ \b\b- \b\b\\ \b\b| \b\b/ \b\b- \b\b\\ \b\b| \b\b/ \b\b- \b\b\\ \b\b| \b\b/ \b\b- \b\b\\ \b\b| \b\b/ \b\b- \b\b\\ \b\b| \b\b/ \b\b- \b\b\\ \b\b| \b\b/ \b\b- \b\b\\ \b\b| \b\b/ \b\b- \b\b\\ \b\b| \b\b/ \b\b- \b\b\\ \b\b| \b\b/ \b\b- \b\b\\ \b\b| \b\b/ \b\b- \b\b\\ \b\b| \b\b/ \b\b- \b\b\\ \b\b| \b\b/ \b\b- \b\b\\ \b\b| \b\b/ \b\b- \b\b\\ \b\b| \b\b/ \b\b- \b\b\\ \b\b| \b\b/ \b\b- \b\b\\ \b\b| \b\b/ \b\b- \b\b\\ \b\b| \b\b/ \b\b- \b\b\\ \b\b| \b\b/ \b\b- \b\b\\ \b\b| \b\b/ \b\b- \b\b\\ \b\b| \b\b/ \b\b- \b\b\\ \b\b| \b\b/ \b\b- \b\b\\ \b\b| \b\b/ \b\b- \b\b\\ \b\b| \b\b/ \b\b- \b\b\\ \b\b| \b\b/ \b\b- \b\b\\ \b\b| \b\b/ \b\b- \b\b\\ \b\b| \b\b/ \b\b- \b\b\\ \b\b| \b\b/ \b\b- \b\b\\ \b\b| \b\b/ \b\b- \b\b\\ \b\b| \b\b/ \b\b- \b\b\\ \b\b| \b\b/ \b\b- \b\b\\ \b\b| \b\b/ \b\b- \b\b\\ \b\b| \b\b/ \b\b- \b\b\\ \b\b| \b\b/ \b\b- \b\b\\ \b\b| \b\b/ \b\b- \b\b\\ \b\b| \b\b/ \b\b- \b\b\\ \b\b| \b\b/ \b\b- \b\b\\ \b\b| \b\b/ \b\b- \b\b\\ \b\b| \b\b/ \b\b- \b\b\\ \b\b| \b\b/ \b\b- \b\b\\ \b\b| \b\b/ \b\b- \b\b\\ \b\b| \b\b/ \b\b- \b\b\\ \b\b| \b\b/ \b\b- \b\b\\ \b\b| \b\b/ \b\b- \b\b\\ \b\b| \b\b/ \b\b- \b\b\\ \b\b| \b\b/ \b\b- \b\b\\ \b\b| \b\b/ \b\b- \b\b\\ \b\b| \b\b/ \b\b- \b\b\\ \b\b| \b\b/ \b\b- \b\b\\ \b\b| \b\b/ \b\b- \b\b\\ \b\b| \b\b/ \b\b- \b\b\\ \b\b| \b\b/ \b\b- \b\b\\ \b\b| \b\b/ \b\b- \b\bdone\n",
            "\n",
            "## Package Plan ##\n",
            "\n",
            "  environment location: /usr/local\n",
            "\n",
            "  added / updated specs:\n",
            "    - tensorflow==2.4.1\n",
            "\n",
            "\n",
            "The following packages will be downloaded:\n",
            "\n",
            "    package                    |            build\n",
            "    ---------------------------|-----------------\n",
            "    _tflow_select-2.3.0        |              mkl           2 KB\n",
            "    absl-py-0.13.0             |     pyhd8ed1ab_0          97 KB  conda-forge\n",
            "    aiohttp-3.7.4.post0        |   py37h5e8e339_0         625 KB  conda-forge\n",
            "    astor-0.8.1                |     pyh9f0ad1d_0          25 KB  conda-forge\n",
            "    astunparse-1.6.3           |     pyhd8ed1ab_0          15 KB  conda-forge\n",
            "    async-timeout-3.0.1        |          py_1000          11 KB  conda-forge\n",
            "    attrs-21.2.0               |     pyhd8ed1ab_0          44 KB  conda-forge\n",
            "    blinker-1.4                |             py_1          13 KB  conda-forge\n",
            "    ca-certificates-2021.5.30  |       ha878542_0         136 KB  conda-forge\n",
            "    cachetools-4.2.2           |     pyhd8ed1ab_0          12 KB  conda-forge\n",
            "    certifi-2021.5.30          |   py37h89c1867_0         141 KB  conda-forge\n",
            "    click-8.0.1                |   py37h89c1867_0         145 KB  conda-forge\n",
            "    conda-4.10.3               |   py37h89c1867_0         3.1 MB  conda-forge\n",
            "    cudatoolkit-11.0.3         |       h15472ef_8       951.9 MB  conda-forge\n",
            "    dataclasses-0.8            |     pyhc8e2a94_3          10 KB  conda-forge\n",
            "    gast-0.4.0                 |     pyh9f0ad1d_0          12 KB  conda-forge\n",
            "    google-auth-1.35.0         |     pyh6c4a22f_0          81 KB  conda-forge\n",
            "    google-auth-oauthlib-0.4.6 |     pyhd8ed1ab_0          19 KB  conda-forge\n",
            "    google-pasta-0.2.0         |     pyh8c360ce_0          42 KB  conda-forge\n",
            "    grpcio-1.38.1              |   py37hb27c1af_0         2.2 MB  conda-forge\n",
            "    h5py-2.10.0                |nompi_py37ha3df211_106         1.1 MB  conda-forge\n",
            "    hdf5-1.10.6                |nompi_h6a2412b_1114         3.1 MB  conda-forge\n",
            "    importlib-metadata-4.8.1   |   py37h89c1867_0          32 KB  conda-forge\n",
            "    keras-preprocessing-1.1.2  |     pyhd8ed1ab_0          34 KB  conda-forge\n",
            "    libblas-3.9.0              |11_linux64_openblas          12 KB  conda-forge\n",
            "    libcblas-3.9.0             |11_linux64_openblas          11 KB  conda-forge\n",
            "    libgfortran-ng-11.1.0      |       h69a702a_8          19 KB  conda-forge\n",
            "    libgfortran5-11.1.0        |       h6c583b3_8         1.7 MB  conda-forge\n",
            "    liblapack-3.9.0            |11_linux64_openblas          11 KB  conda-forge\n",
            "    libopenblas-0.3.17         |pthreads_h8fe5266_1         9.2 MB  conda-forge\n",
            "    libprotobuf-3.17.2         |       h780b84a_1         2.5 MB  conda-forge\n",
            "    markdown-3.3.4             |     pyhd8ed1ab_0          67 KB  conda-forge\n",
            "    multidict-5.1.0            |   py37h5e8e339_1          67 KB  conda-forge\n",
            "    numpy-1.21.1               |   py37h038b26d_0         6.1 MB  conda-forge\n",
            "    oauthlib-3.1.1             |     pyhd8ed1ab_0          87 KB  conda-forge\n",
            "    openssl-1.1.1k             |       h7f98852_0         2.1 MB  conda-forge\n",
            "    opt_einsum-3.3.0           |     pyhd8ed1ab_1          53 KB  conda-forge\n",
            "    protobuf-3.17.2            |   py37hcd2ae1e_0         347 KB  conda-forge\n",
            "    pyasn1-0.4.8               |             py_0          53 KB  conda-forge\n",
            "    pyasn1-modules-0.2.7       |             py_0          60 KB  conda-forge\n",
            "    pyjwt-2.1.0                |     pyhd8ed1ab_0          17 KB  conda-forge\n",
            "    python-flatbuffers-2.0     |     pyhd8ed1ab_0          28 KB  conda-forge\n",
            "    python_abi-3.7             |          2_cp37m           4 KB  conda-forge\n",
            "    pyu2f-0.1.5                |     pyhd8ed1ab_0          31 KB  conda-forge\n",
            "    requests-oauthlib-1.3.0    |     pyh9f0ad1d_0          21 KB  conda-forge\n",
            "    rsa-4.7.2                  |     pyh44b312d_0          28 KB  conda-forge\n",
            "    scipy-1.7.0                |   py37h29e03ee_1        21.7 MB  conda-forge\n",
            "    tensorboard-2.6.0          |     pyhd8ed1ab_1         5.0 MB  conda-forge\n",
            "    tensorboard-data-server-0.6.0|   py37h7f0c10b_0         3.2 MB  conda-forge\n",
            "    tensorboard-plugin-wit-1.8.0|     pyh44b312d_0         670 KB  conda-forge\n",
            "    tensorflow-2.4.1           |mkl_py37h2d14ff2_0           4 KB\n",
            "    tensorflow-base-2.4.1      |mkl_py37h43e0292_0        88.9 MB\n",
            "    tensorflow-estimator-2.5.0 |     pyh81a9013_1         289 KB  conda-forge\n",
            "    termcolor-1.1.0            |             py_2           6 KB  conda-forge\n",
            "    typing-extensions-3.10.0.0 |       hd8ed1ab_0           8 KB  conda-forge\n",
            "    typing_extensions-3.10.0.0 |     pyha770c72_0          28 KB  conda-forge\n",
            "    werkzeug-2.0.1             |     pyhd8ed1ab_0         219 KB  conda-forge\n",
            "    wrapt-1.12.1               |   py37h5e8e339_3          47 KB  conda-forge\n",
            "    yarl-1.6.3                 |   py37h5e8e339_2         142 KB  conda-forge\n",
            "    zipp-3.5.0                 |     pyhd8ed1ab_0          12 KB  conda-forge\n",
            "    ------------------------------------------------------------\n",
            "                                           Total:        1.08 GB\n",
            "\n",
            "The following NEW packages will be INSTALLED:\n",
            "\n",
            "  _tflow_select      pkgs/main/linux-64::_tflow_select-2.3.0-mkl\n",
            "  absl-py            conda-forge/noarch::absl-py-0.13.0-pyhd8ed1ab_0\n",
            "  aiohttp            conda-forge/linux-64::aiohttp-3.7.4.post0-py37h5e8e339_0\n",
            "  astor              conda-forge/noarch::astor-0.8.1-pyh9f0ad1d_0\n",
            "  astunparse         conda-forge/noarch::astunparse-1.6.3-pyhd8ed1ab_0\n",
            "  async-timeout      conda-forge/noarch::async-timeout-3.0.1-py_1000\n",
            "  attrs              conda-forge/noarch::attrs-21.2.0-pyhd8ed1ab_0\n",
            "  blinker            conda-forge/noarch::blinker-1.4-py_1\n",
            "  cachetools         conda-forge/noarch::cachetools-4.2.2-pyhd8ed1ab_0\n",
            "  click              conda-forge/linux-64::click-8.0.1-py37h89c1867_0\n",
            "  cudatoolkit        conda-forge/linux-64::cudatoolkit-11.0.3-h15472ef_8\n",
            "  dataclasses        conda-forge/noarch::dataclasses-0.8-pyhc8e2a94_3\n",
            "  gast               conda-forge/noarch::gast-0.4.0-pyh9f0ad1d_0\n",
            "  google-auth        conda-forge/noarch::google-auth-1.35.0-pyh6c4a22f_0\n",
            "  google-auth-oauth~ conda-forge/noarch::google-auth-oauthlib-0.4.6-pyhd8ed1ab_0\n",
            "  google-pasta       conda-forge/noarch::google-pasta-0.2.0-pyh8c360ce_0\n",
            "  grpcio             conda-forge/linux-64::grpcio-1.38.1-py37hb27c1af_0\n",
            "  h5py               conda-forge/linux-64::h5py-2.10.0-nompi_py37ha3df211_106\n",
            "  hdf5               conda-forge/linux-64::hdf5-1.10.6-nompi_h6a2412b_1114\n",
            "  importlib-metadata conda-forge/linux-64::importlib-metadata-4.8.1-py37h89c1867_0\n",
            "  keras-preprocessi~ conda-forge/noarch::keras-preprocessing-1.1.2-pyhd8ed1ab_0\n",
            "  libblas            conda-forge/linux-64::libblas-3.9.0-11_linux64_openblas\n",
            "  libcblas           conda-forge/linux-64::libcblas-3.9.0-11_linux64_openblas\n",
            "  libgfortran-ng     conda-forge/linux-64::libgfortran-ng-11.1.0-h69a702a_8\n",
            "  libgfortran5       conda-forge/linux-64::libgfortran5-11.1.0-h6c583b3_8\n",
            "  liblapack          conda-forge/linux-64::liblapack-3.9.0-11_linux64_openblas\n",
            "  libopenblas        conda-forge/linux-64::libopenblas-0.3.17-pthreads_h8fe5266_1\n",
            "  libprotobuf        conda-forge/linux-64::libprotobuf-3.17.2-h780b84a_1\n",
            "  markdown           conda-forge/noarch::markdown-3.3.4-pyhd8ed1ab_0\n",
            "  multidict          conda-forge/linux-64::multidict-5.1.0-py37h5e8e339_1\n",
            "  numpy              conda-forge/linux-64::numpy-1.21.1-py37h038b26d_0\n",
            "  oauthlib           conda-forge/noarch::oauthlib-3.1.1-pyhd8ed1ab_0\n",
            "  opt_einsum         conda-forge/noarch::opt_einsum-3.3.0-pyhd8ed1ab_1\n",
            "  protobuf           conda-forge/linux-64::protobuf-3.17.2-py37hcd2ae1e_0\n",
            "  pyasn1             conda-forge/noarch::pyasn1-0.4.8-py_0\n",
            "  pyasn1-modules     conda-forge/noarch::pyasn1-modules-0.2.7-py_0\n",
            "  pyjwt              conda-forge/noarch::pyjwt-2.1.0-pyhd8ed1ab_0\n",
            "  python-flatbuffers conda-forge/noarch::python-flatbuffers-2.0-pyhd8ed1ab_0\n",
            "  pyu2f              conda-forge/noarch::pyu2f-0.1.5-pyhd8ed1ab_0\n",
            "  requests-oauthlib  conda-forge/noarch::requests-oauthlib-1.3.0-pyh9f0ad1d_0\n",
            "  rsa                conda-forge/noarch::rsa-4.7.2-pyh44b312d_0\n",
            "  scipy              conda-forge/linux-64::scipy-1.7.0-py37h29e03ee_1\n",
            "  tensorboard        conda-forge/noarch::tensorboard-2.6.0-pyhd8ed1ab_1\n",
            "  tensorboard-data-~ conda-forge/linux-64::tensorboard-data-server-0.6.0-py37h7f0c10b_0\n",
            "  tensorboard-plugi~ conda-forge/noarch::tensorboard-plugin-wit-1.8.0-pyh44b312d_0\n",
            "  tensorflow         pkgs/main/linux-64::tensorflow-2.4.1-mkl_py37h2d14ff2_0\n",
            "  tensorflow-base    pkgs/main/linux-64::tensorflow-base-2.4.1-mkl_py37h43e0292_0\n",
            "  tensorflow-estima~ conda-forge/noarch::tensorflow-estimator-2.5.0-pyh81a9013_1\n",
            "  termcolor          conda-forge/noarch::termcolor-1.1.0-py_2\n",
            "  typing-extensions  conda-forge/noarch::typing-extensions-3.10.0.0-hd8ed1ab_0\n",
            "  typing_extensions  conda-forge/noarch::typing_extensions-3.10.0.0-pyha770c72_0\n",
            "  werkzeug           conda-forge/noarch::werkzeug-2.0.1-pyhd8ed1ab_0\n",
            "  wrapt              conda-forge/linux-64::wrapt-1.12.1-py37h5e8e339_3\n",
            "  yarl               conda-forge/linux-64::yarl-1.6.3-py37h5e8e339_2\n",
            "  zipp               conda-forge/noarch::zipp-3.5.0-pyhd8ed1ab_0\n",
            "\n",
            "The following packages will be UPDATED:\n",
            "\n",
            "  ca-certificates                      2020.12.5-ha878542_0 --> 2021.5.30-ha878542_0\n",
            "  certifi                          2020.12.5-py37h89c1867_1 --> 2021.5.30-py37h89c1867_0\n",
            "  conda                                4.9.2-py37h89c1867_0 --> 4.10.3-py37h89c1867_0\n",
            "  openssl                                 1.1.1j-h7f98852_0 --> 1.1.1k-h7f98852_0\n",
            "  python_abi                                    3.7-1_cp37m --> 3.7-2_cp37m\n",
            "\n",
            "\n",
            "\n",
            "Downloading and Extracting Packages\n",
            "liblapack-3.9.0      | 11 KB     | : 100% 1.0/1 [00:00<00:00,  8.62it/s]\n",
            "ca-certificates-2021 | 136 KB    | : 100% 1.0/1 [00:00<00:00, 12.85it/s]\n",
            "attrs-21.2.0         | 44 KB     | : 100% 1.0/1 [00:00<00:00, 18.25it/s]\n",
            "zipp-3.5.0           | 12 KB     | : 100% 1.0/1 [00:00<00:00, 18.73it/s]\n",
            "libblas-3.9.0        | 12 KB     | : 100% 1.0/1 [00:00<00:00, 24.05it/s]\n",
            "google-pasta-0.2.0   | 42 KB     | : 100% 1.0/1 [00:00<00:00, 21.01it/s]\n",
            "markdown-3.3.4       | 67 KB     | : 100% 1.0/1 [00:00<00:00, 17.79it/s]\n",
            "termcolor-1.1.0      | 6 KB      | : 100% 1.0/1 [00:00<00:00, 30.08it/s]\n",
            "oauthlib-3.1.1       | 87 KB     | : 100% 1.0/1 [00:00<00:00, 12.33it/s]\n",
            "cudatoolkit-11.0.3   | 951.9 MB  | : 100% 1.0/1 [02:58<00:00, 178.90s/it]              \n",
            "tensorflow-base-2.4. | 88.9 MB   | : 100% 1.0/1 [00:05<00:00,  5.39s/it]               \n",
            "pyasn1-0.4.8         | 53 KB     | : 100% 1.0/1 [00:00<00:00, 13.27it/s]\n",
            "astunparse-1.6.3     | 15 KB     | : 100% 1.0/1 [00:00<00:00, 25.14it/s]\n",
            "astor-0.8.1          | 25 KB     | : 100% 1.0/1 [00:00<00:00, 17.45it/s]\n",
            "keras-preprocessing- | 34 KB     | : 100% 1.0/1 [00:00<00:00, 20.22it/s]\n",
            "google-auth-oauthlib | 19 KB     | : 100% 1.0/1 [00:00<00:00, 22.11it/s]\n",
            "scipy-1.7.0          | 21.7 MB   | : 100% 1.0/1 [00:05<00:00,  5.21s/it]\n",
            "libopenblas-0.3.17   | 9.2 MB    | : 100% 1.0/1 [00:02<00:00,  2.42s/it]\n",
            "blinker-1.4          | 13 KB     | : 100% 1.0/1 [00:00<00:00, 20.64it/s]\n",
            "pyu2f-0.1.5          | 31 KB     | : 100% 1.0/1 [00:00<00:00, 18.12it/s]\n",
            "gast-0.4.0           | 12 KB     | : 100% 1.0/1 [00:00<00:00, 28.07it/s]\n",
            "importlib-metadata-4 | 32 KB     | : 100% 1.0/1 [00:00<00:00, 23.81it/s]\n",
            "typing_extensions-3. | 28 KB     | : 100% 1.0/1 [00:00<00:00, 23.95it/s]\n",
            "rsa-4.7.2            | 28 KB     | : 100% 1.0/1 [00:00<00:00, 24.28it/s]\n",
            "tensorflow-2.4.1     | 4 KB      | : 100% 1.0/1 [00:00<00:00,  7.82it/s]\n",
            "pyjwt-2.1.0          | 17 KB     | : 100% 1.0/1 [00:00<00:00, 24.87it/s]\n",
            "certifi-2021.5.30    | 141 KB    | : 100% 1.0/1 [00:00<00:00, 16.55it/s]\n",
            "pyasn1-modules-0.2.7 | 60 KB     | : 100% 1.0/1 [00:00<00:00, 12.97it/s]\n",
            "tensorboard-data-ser | 3.2 MB    | : 100% 1.0/1 [00:00<00:00,  1.07it/s]\n",
            "typing-extensions-3. | 8 KB      | : 100% 1.0/1 [00:00<00:00, 23.51it/s]\n",
            "werkzeug-2.0.1       | 219 KB    | : 100% 1.0/1 [00:00<00:00,  8.73it/s]\n",
            "grpcio-1.38.1        | 2.2 MB    | : 100% 1.0/1 [00:00<00:00,  1.62it/s]\n",
            "libprotobuf-3.17.2   | 2.5 MB    | : 100% 1.0/1 [00:00<00:00,  1.30it/s]\n",
            "absl-py-0.13.0       | 97 KB     | : 100% 1.0/1 [00:00<00:00, 14.04it/s]\n",
            "requests-oauthlib-1. | 21 KB     | : 100% 1.0/1 [00:00<00:00, 22.62it/s]\n",
            "libcblas-3.9.0       | 11 KB     | : 100% 1.0/1 [00:00<00:00, 20.79it/s]\n",
            "click-8.0.1          | 145 KB    | : 100% 1.0/1 [00:00<00:00, 11.01it/s]\n",
            "conda-4.10.3         | 3.1 MB    | : 100% 1.0/1 [00:00<00:00,  1.22it/s]\n",
            "aiohttp-3.7.4.post0  | 625 KB    | : 100% 1.0/1 [00:00<00:00,  4.17it/s]\n",
            "google-auth-1.35.0   | 81 KB     | : 100% 1.0/1 [00:00<00:00, 16.49it/s]\n",
            "tensorboard-plugin-w | 670 KB    | : 100% 1.0/1 [00:00<00:00,  4.85it/s]\n",
            "dataclasses-0.8      | 10 KB     | : 100% 1.0/1 [00:00<00:00, 19.91it/s]\n",
            "multidict-5.1.0      | 67 KB     | : 100% 1.0/1 [00:00<00:00, 16.92it/s]\n",
            "async-timeout-3.0.1  | 11 KB     | : 100% 1.0/1 [00:00<00:00, 24.78it/s]\n",
            "cachetools-4.2.2     | 12 KB     | : 100% 1.0/1 [00:00<00:00, 28.06it/s]\n",
            "libgfortran-ng-11.1. | 19 KB     | : 100% 1.0/1 [00:00<00:00, 25.81it/s]\n",
            "python_abi-3.7       | 4 KB      | : 100% 1.0/1 [00:00<00:00, 29.55it/s]\n",
            "hdf5-1.10.6          | 3.1 MB    | : 100% 1.0/1 [00:00<00:00,  1.31it/s]\n",
            "numpy-1.21.1         | 6.1 MB    | : 100% 1.0/1 [00:01<00:00,  1.85s/it]\n",
            "opt_einsum-3.3.0     | 53 KB     | : 100% 1.0/1 [00:00<00:00, 20.05it/s]\n",
            "protobuf-3.17.2      | 347 KB    | : 100% 1.0/1 [00:00<00:00,  7.10it/s]\n",
            "h5py-2.10.0          | 1.1 MB    | : 100% 1.0/1 [00:00<00:00,  2.49it/s]\n",
            "tensorflow-estimator | 289 KB    | : 100% 1.0/1 [00:00<00:00,  5.83it/s]\n",
            "_tflow_select-2.3.0  | 2 KB      | : 100% 1.0/1 [00:00<00:00,  7.37it/s]\n",
            "openssl-1.1.1k       | 2.1 MB    | : 100% 1.0/1 [00:00<00:00,  2.06it/s]\n",
            "libgfortran5-11.1.0  | 1.7 MB    | : 100% 1.0/1 [00:00<00:00,  2.03it/s]\n",
            "python-flatbuffers-2 | 28 KB     | : 100% 1.0/1 [00:00<00:00, 22.64it/s]\n",
            "yarl-1.6.3           | 142 KB    | : 100% 1.0/1 [00:00<00:00, 12.30it/s]\n",
            "wrapt-1.12.1         | 47 KB     | : 100% 1.0/1 [00:00<00:00, 23.59it/s]\n",
            "tensorboard-2.6.0    | 5.0 MB    | : 100% 1.0/1 [00:01<00:00,  1.05s/it]\n",
            "Preparing transaction: | \b\b/ \b\b- \b\b\\ \b\b| \b\b/ \b\bdone\n",
            "Verifying transaction: \\ \b\b| \b\b/ \b\b- \b\b\\ \b\b| \b\b/ \b\b- \b\b\\ \b\b| \b\b/ \b\b- \b\b\\ \b\b| \b\b/ \b\b- \b\b\\ \b\b| \b\b/ \b\bdone\n",
            "Executing transaction: \\ \b\b| \b\b/ \b\b- \b\b\\ \b\b| \b\b/ \b\b- \b\b\\ \b\b| \b\b/ \b\b- \b\b\\ \b\b| By downloading and using the CUDA Toolkit conda packages, you accept the terms and conditions of the CUDA End User License Agreement (EULA): https://docs.nvidia.com/cuda/eula/index.html\n",
            "\n",
            "\b\b/ \b\b- \b\b\\ \b\b| \b\b/ \b\b- \b\b\\ \b\b| \b\b/ \b\b- \b\b\\ \b\b| \b\b/ \b\b- \b\b\\ \b\b| \b\b/ \b\b- \b\b\\ \b\b| \b\b/ \b\b- \b\b\\ \b\b| \b\b/ \b\b- \b\bdone\n"
          ]
        }
      ]
    },
    {
      "cell_type": "code",
      "metadata": {
        "colab": {
          "base_uri": "https://localhost:8080/"
        },
        "id": "bbKuDZgHgN_2",
        "outputId": "1350802c-fa99-4670-eb11-baf02791012b"
      },
      "source": [
        "!conda install -c conda-forge _tflow_select==2.3.0 "
      ],
      "execution_count": 8,
      "outputs": [
        {
          "output_type": "stream",
          "name": "stdout",
          "text": [
            "Collecting package metadata (current_repodata.json): - \b\b\\ \b\b| \b\b/ \b\b- \b\b\\ \b\b| \b\b/ \b\b- \b\b\\ \b\b| \b\b/ \b\b- \b\b\\ \b\b| \b\b/ \b\b- \b\b\\ \b\bdone\n",
            "Solving environment: / \b\b- \b\b\\ \b\b| \b\b/ \b\b- \b\b\\ \b\b| \b\b/ \b\b- \b\b\\ \b\b| \b\b/ \b\b- \b\b\\ \b\b| \b\b/ \b\b- \b\b\\ \b\b| \b\b/ \b\b- \b\b\\ \b\b| \b\bdone\n",
            "\n",
            "# All requested packages already installed.\n",
            "\n"
          ]
        }
      ]
    },
    {
      "cell_type": "code",
      "metadata": {
        "colab": {
          "base_uri": "https://localhost:8080/"
        },
        "id": "MQT5wydvgWMT",
        "outputId": "9144d1ac-e139-4cab-c047-42bd7f714ad1"
      },
      "source": [
        "!conda install -c conda-forge tensorflow-estimator==2.4.1"
      ],
      "execution_count": 9,
      "outputs": [
        {
          "output_type": "stream",
          "name": "stdout",
          "text": [
            "Collecting package metadata (current_repodata.json): - \b\b\\ \b\b| \b\b/ \b\b- \b\b\\ \b\b| \b\b/ \b\b- \b\b\\ \b\b| \b\b/ \b\b- \b\b\\ \b\b| \b\b/ \b\bdone\n",
            "Solving environment: \\ \b\bfailed with initial frozen solve. Retrying with flexible solve.\n",
            "Collecting package metadata (repodata.json): / \b\b- \b\b\\ \b\b| \b\b/ \b\b- \b\b\\ \b\b| \b\b/ \b\b- \b\b\\ \b\b| \b\b/ \b\b- \b\b\\ \b\b| \b\b/ \b\b- \b\b\\ \b\b| \b\b/ \b\b- \b\b\\ \b\b| \b\b/ \b\b- \b\b\\ \b\b| \b\b/ \b\b- \b\b\\ \b\b| \b\b/ \b\b- \b\b\\ \b\b| \b\b/ \b\b- \b\b\\ \b\b| \b\b/ \b\b- \b\b\\ \b\b| \b\b/ \b\b- \b\b\\ \b\b| \b\b/ \b\b- \b\b\\ \b\bdone\n",
            "Solving environment: / \b\bfailed with initial frozen solve. Retrying with flexible solve.\n",
            "\n",
            "PackagesNotFoundError: The following packages are not available from current channels:\n",
            "\n",
            "  - tensorflow-estimator==2.4.1\n",
            "\n",
            "Current channels:\n",
            "\n",
            "  - https://conda.anaconda.org/conda-forge/linux-64\n",
            "  - https://conda.anaconda.org/conda-forge/noarch\n",
            "\n",
            "To search for alternate channels that may provide the conda package you're\n",
            "looking for, navigate to\n",
            "\n",
            "    https://anaconda.org\n",
            "\n",
            "and use the search bar at the top of the page.\n",
            "\n",
            "\n"
          ]
        }
      ]
    },
    {
      "cell_type": "code",
      "metadata": {
        "colab": {
          "base_uri": "https://localhost:8080/"
        },
        "id": "yNOl53Ingg--",
        "outputId": "e3c26e13-e694-43f5-c34c-653a635425ae"
      },
      "source": [
        "!conda install -c conda-forge tensorflow-base==2.4.1"
      ],
      "execution_count": 10,
      "outputs": [
        {
          "output_type": "stream",
          "name": "stdout",
          "text": [
            "Collecting package metadata (current_repodata.json): - \b\b\\ \b\b| \b\b/ \b\b- \b\b\\ \b\b| \b\b/ \b\b- \b\b\\ \b\b| \b\b/ \b\b- \b\b\\ \b\b| \b\b/ \b\bdone\n",
            "Solving environment: \\ \b\b| \b\b/ \b\b- \b\b\\ \b\b| \b\b/ \b\b- \b\b\\ \b\b| \b\b/ \b\b- \b\b\\ \b\b| \b\b/ \b\b- \b\b\\ \b\b| \b\b/ \b\b- \b\b\\ \b\b| \b\b/ \b\b- \b\b\\ \b\b| \b\b/ \b\b- \b\b\\ \b\b| \b\b/ \b\b- \b\b\\ \b\b| \b\bdone\n",
            "\n",
            "# All requested packages already installed.\n",
            "\n"
          ]
        }
      ]
    },
    {
      "cell_type": "code",
      "metadata": {
        "colab": {
          "base_uri": "https://localhost:8080/"
        },
        "id": "6CUUqNTvgh3P",
        "outputId": "4387238a-baa2-4fb0-aa24-88fffbaae8df"
      },
      "source": [
        "!source run.sh   "
      ],
      "execution_count": 13,
      "outputs": [
        {
          "output_type": "stream",
          "name": "stdout",
          "text": [
            "run.sh: line 10: : No such file or directory\n",
            "Executing python mycode/model/trainer.py \n",
            "Traceback (most recent call last):\n",
            "  File \"mycode/model/trainer.py\", line 15, in <module>\n",
            "    from sklearn.model_selection import ParameterGrid\n",
            "ModuleNotFoundError: No module named 'sklearn'\n"
          ]
        }
      ]
    },
    {
      "cell_type": "markdown",
      "metadata": {
        "id": "lYKb94VioYyh"
      },
      "source": [
        "Need here to install scikit-learn"
      ]
    },
    {
      "cell_type": "code",
      "metadata": {
        "colab": {
          "base_uri": "https://localhost:8080/"
        },
        "id": "apqwPyWdiiXN",
        "outputId": "4d723521-5504-4ee5-e98f-0f06572196a0"
      },
      "source": [
        "!conda install -c anaconda scikit-learn"
      ],
      "execution_count": 20,
      "outputs": [
        {
          "output_type": "stream",
          "name": "stdout",
          "text": [
            "Collecting package metadata (current_repodata.json): - \b\b\\ \b\b| \b\b/ \b\b- \b\b\\ \b\b| \b\b/ \b\b- \b\b\\ \b\b| \b\b/ \b\b- \b\b\\ \b\b| \b\b/ \b\b- \b\b\\ \b\b| \b\b/ \b\b- \b\b\\ \b\b| \b\b/ \b\b- \b\b\\ \b\bdone\n",
            "Solving environment: / \b\b- \b\b\\ \b\b| \b\b/ \b\b- \b\b\\ \b\b| \b\b/ \b\b- \b\b\\ \b\b| \b\b/ \b\b- \b\b\\ \b\b| \b\b/ \b\b- \b\b\\ \b\b| \b\b/ \b\b- \b\b\\ \b\b| \b\b/ \b\b- \b\b\\ \b\b| \b\b/ \b\b- \b\b\\ \b\b| \b\b/ \b\b- \b\b\\ \b\b| \b\b/ \b\b- \b\b\\ \b\bdone\n",
            "\n",
            "## Package Plan ##\n",
            "\n",
            "  environment location: /usr/local\n",
            "\n",
            "  added / updated specs:\n",
            "    - scikit-learn\n",
            "\n",
            "\n",
            "The following packages will be downloaded:\n",
            "\n",
            "    package                    |            build\n",
            "    ---------------------------|-----------------\n",
            "    ca-certificates-2020.10.14 |                0         128 KB  anaconda\n",
            "    certifi-2020.6.20          |           py37_0         159 KB  anaconda\n",
            "    joblib-0.17.0              |             py_0         205 KB  anaconda\n",
            "    scikit-learn-0.23.2        |   py37h0573a6f_0         6.9 MB  anaconda\n",
            "    threadpoolctl-2.1.0        |     pyh5ca1d4c_0          16 KB  anaconda\n",
            "    ------------------------------------------------------------\n",
            "                                           Total:         7.4 MB\n",
            "\n",
            "The following NEW packages will be INSTALLED:\n",
            "\n",
            "  joblib             anaconda/noarch::joblib-0.17.0-py_0\n",
            "  scikit-learn       anaconda/linux-64::scikit-learn-0.23.2-py37h0573a6f_0\n",
            "  threadpoolctl      anaconda/noarch::threadpoolctl-2.1.0-pyh5ca1d4c_0\n",
            "\n",
            "The following packages will be SUPERSEDED by a higher-priority channel:\n",
            "\n",
            "  ca-certificates    conda-forge::ca-certificates-2021.5.3~ --> anaconda::ca-certificates-2020.10.14-0\n",
            "  certifi            conda-forge::certifi-2021.5.30-py37h8~ --> anaconda::certifi-2020.6.20-py37_0\n",
            "\n",
            "\n",
            "\n",
            "Downloading and Extracting Packages\n",
            "certifi-2020.6.20    | 159 KB    | : 100% 1.0/1 [00:00<00:00,  5.58it/s]                \n",
            "joblib-0.17.0        | 205 KB    | : 100% 1.0/1 [00:00<00:00,  8.05it/s]\n",
            "threadpoolctl-2.1.0  | 16 KB     | : 100% 1.0/1 [00:00<00:00, 25.47it/s]\n",
            "ca-certificates-2020 | 128 KB    | : 100% 1.0/1 [00:00<00:00, 19.44it/s]\n",
            "scikit-learn-0.23.2  | 6.9 MB    | : 100% 1.0/1 [00:02<00:00,  2.12s/it]               \n",
            "Preparing transaction: / \b\bdone\n",
            "Verifying transaction: \\ \b\b| \b\bdone\n",
            "Executing transaction: - \b\b\\ \b\b| \b\b/ \b\b- \b\b\\ \b\b| \b\b/ \b\bdone\n"
          ]
        }
      ]
    },
    {
      "cell_type": "code",
      "metadata": {
        "colab": {
          "base_uri": "https://localhost:8080/"
        },
        "id": "of-XEgZKi3Sx",
        "outputId": "2ceff861-3f93-4af2-a24a-a2b6c2b2e983"
      },
      "source": [
        "!source run.sh   "
      ],
      "execution_count": 21,
      "outputs": [
        {
          "output_type": "stream",
          "name": "stdout",
          "text": [
            "run.sh: line 10: : No such file or directory\n",
            "Executing python mycode/model/trainer.py \n",
            "Arguments:\n",
            "\t                   LSTM_layers : 1\n",
            "\t                        Lambda : 0.0\n",
            "\t               base_output_dir : \n",
            "\t                    batch_size : 128\n",
            "\t                          beta : 0.01\n",
            "\t                embedding_size : 50\n",
            "\t                    eval_every : 100\n",
            "\t                         gamma : 1\n",
            "\t                grad_clip_norm : 5\n",
            "\t                   hidden_size : 50\n",
            "\t                     input_dir : \n",
            "\t                 learning_rate : 0.001\n",
            "\t                    load_model : 0\n",
            "\t               max_num_actions : 200\n",
            "\t               model_load_path : \n",
            "\t               negative_reward : 0\n",
            "\t                  num_rollouts : 20\n",
            "\t                     only_body : 0\n",
            "\t                   path_length : 3\n",
            "\t                      patience : 2\n",
            "\t                          pool : max\n",
            "\t               positive_reward : 1.0\n",
            "\t     pretrained_embeddings_dir : \n",
            "\t  pretrained_embeddings_entity : \n",
            "\tpretrained_embeddings_relation : \n",
            "\t              rule_base_reward : 20\n",
            "\t                     rule_file : rules.txt\n",
            "\t                          seed : None\n",
            "\t                 test_rollouts : 100\n",
            "\t              total_iterations : 2000\n",
            "\t       train_entity_embeddings : False\n",
            "\t     train_relation_embeddings : True\n",
            "\t         use_entity_embeddings : False\n",
            "09/04/2021 11:28:51 AM: [ Reading vocab files... ]\n",
            "INFO:__main__:Reading vocab files...\n",
            "Traceback (most recent call last):\n",
            "  File \"mycode/model/trainer.py\", line 731, in <module>\n",
            "    relation_vocab = json.load(open(vocab_dir + 'relation_vocab.json'))\n",
            "FileNotFoundError: [Errno 2] No such file or directory: 'vocab/relation_vocab.json'\n"
          ]
        }
      ]
    },
    {
      "cell_type": "markdown",
      "metadata": {
        "id": "TyRbAOUfoha2"
      },
      "source": [
        "### We are missing a config here. alrighty then."
      ]
    },
    {
      "cell_type": "code",
      "metadata": {
        "colab": {
          "base_uri": "https://localhost:8080/"
        },
        "id": "4YkXp-yji-Sq",
        "outputId": "137ff308-f8d1-45fd-a03b-43a71d807b64"
      },
      "source": [
        "!source run.sh configs/Hetionet.sh"
      ],
      "execution_count": 23,
      "outputs": [
        {
          "output_type": "stream",
          "name": "stdout",
          "text": [
            "Executing python mycode/model/trainer.py  --input_dir datasets/Hetionet/ --base_output_dir output/Hetionet/ --total_iterations 1000 --eval_every 10 --patience 2 --rule_base_reward 3 --only_body 0 --embedding_size 32 --hidden_size 32 --LSTM_layers 2 --beta 0.05 --Lambda 0.02 --learning_rate 0.0006 --max_num_actions 400 --train_entity_embeddings 1 --use_entity_embeddings 1 --num_rollouts 30 --load_model 1 --model_load_path /home/ubuntu/PoLo/models/Hetionet/model.ckpt\n",
            "Arguments:\n",
            "\t                   LSTM_layers : [2]\n",
            "\t                        Lambda : [0.02]\n",
            "\t               base_output_dir : output/Hetionet/\n",
            "\t                    batch_size : 128\n",
            "\t                          beta : [0.05]\n",
            "\t                embedding_size : [32]\n",
            "\t                    eval_every : 10\n",
            "\t                         gamma : 1\n",
            "\t                grad_clip_norm : 5\n",
            "\t                   hidden_size : [32]\n",
            "\t                     input_dir : datasets/Hetionet/\n",
            "\t                 learning_rate : [0.0006]\n",
            "\t                    load_model : 1\n",
            "\t               max_num_actions : [400]\n",
            "\t               model_load_path : /home/ubuntu/PoLo/models/Hetionet/model.ckpt\n",
            "\t               negative_reward : 0\n",
            "\t                  num_rollouts : [30]\n",
            "\t                     only_body : [0]\n",
            "\t                   path_length : 3\n",
            "\t                      patience : 2\n",
            "\t                          pool : max\n",
            "\t               positive_reward : 1.0\n",
            "\t     pretrained_embeddings_dir : \n",
            "\t  pretrained_embeddings_entity : \n",
            "\tpretrained_embeddings_relation : \n",
            "\t              rule_base_reward : [3.0]\n",
            "\t                     rule_file : rules.txt\n",
            "\t                          seed : None\n",
            "\t                 test_rollouts : 100\n",
            "\t              total_iterations : 1000\n",
            "\t       train_entity_embeddings : True\n",
            "\t     train_relation_embeddings : True\n",
            "\t         use_entity_embeddings : True\n",
            "09/04/2021 11:30:51 AM: [ Reading vocab files... ]\n",
            "INFO:__main__:Reading vocab files...\n",
            "09/04/2021 11:30:51 AM: [ Total number of entities 45160 ]\n",
            "INFO:__main__:Total number of entities 45160\n",
            "09/04/2021 11:30:51 AM: [ Total number of relations 52 ]\n",
            "INFO:__main__:Total number of relations 52\n",
            "09/04/2021 11:30:51 AM: [ Skipping training... ]\n",
            "INFO:__main__:Skipping training...\n",
            "09/04/2021 11:30:51 AM: [ Loading model from /home/ubuntu/PoLo/models/Hetionet/model.ckpt ]\n",
            "INFO:__main__:Loading model from /home/ubuntu/PoLo/models/Hetionet/model.ckpt\n",
            "Arguments:\n",
            "\t                   LSTM_layers : 2\n",
            "\t                        Lambda : 0.02\n",
            "\t               base_output_dir : output/Hetionet/\n",
            "\t                    batch_size : 128\n",
            "\t                          beta : 0.05\n",
            "\t                embedding_size : 32\n",
            "\t                    eval_every : 10\n",
            "\t                         gamma : 1\n",
            "\t                grad_clip_norm : 5\n",
            "\t                   hidden_size : 32\n",
            "\t                     input_dir : datasets/Hetionet/\n",
            "\t                 learning_rate : 0.0006\n",
            "\t                    load_model : 1\n",
            "\t               max_num_actions : 400\n",
            "\t               model_load_path : /home/ubuntu/PoLo/models/Hetionet/model.ckpt\n",
            "\t               negative_reward : 0\n",
            "\t                  num_rollouts : 30\n",
            "\t                     only_body : 0\n",
            "\t                    output_dir : output/Hetionet/04Sep21_113051_TEST_p3_r3.0_e32_h32_L2_l0.0006_o0/\n",
            "\t                   path_length : 3\n",
            "\t                      patience : 2\n",
            "\t                          pool : max\n",
            "\t               positive_reward : 1.0\n",
            "\t     pretrained_embeddings_dir : \n",
            "\t  pretrained_embeddings_entity : \n",
            "\tpretrained_embeddings_relation : \n",
            "\t              rule_base_reward : 3.0\n",
            "\t                     rule_file : rules.txt\n",
            "\t                          seed : None\n",
            "\t                 test_rollouts : 100\n",
            "\t              total_iterations : 1000\n",
            "\t       train_entity_embeddings : True\n",
            "\t     train_relation_embeddings : True\n",
            "\t         use_entity_embeddings : True\n",
            "/usr/local/lib/python3.7/site-packages/tensorflow/python/keras/layers/legacy_rnn/rnn_cell_impl.py:903: UserWarning: `tf.nn.rnn_cell.LSTMCell` is deprecated and will be removed in a future version. This class is equivalent as `tf.keras.layers.LSTMCell`, and will be replaced by that in Tensorflow 2.0.\n",
            "  warnings.warn(\"`tf.nn.rnn_cell.LSTMCell` is deprecated and will be \"\n",
            "WARNING:tensorflow:`tf.nn.rnn_cell.MultiRNNCell` is deprecated. This class is equivalent as `tf.keras.layers.StackedRNNCells`, and will be replaced by that in Tensorflow 2.0.\n",
            "WARNING:tensorflow:`tf.nn.rnn_cell.MultiRNNCell` is deprecated. This class is equivalent as `tf.keras.layers.StackedRNNCells`, and will be replaced by that in Tensorflow 2.0.\n",
            "Reading vocab...\n",
            "Batcher loaded.\n",
            "KG constructed.\n",
            "Reading vocab...\n",
            "Batcher loaded.\n",
            "KG constructed.\n",
            "Reading vocab...\n",
            "Batcher loaded.\n",
            "KG constructed.\n",
            "2021-09-04 11:31:27.056685: I tensorflow/core/platform/cpu_feature_guard.cc:142] This TensorFlow binary is optimized with oneAPI Deep Neural Network Library (oneDNN) to use the following CPU instructions in performance-critical operations:  SSE4.1 SSE4.2 AVX AVX2 FMA\n",
            "To enable them in other operations, rebuild TensorFlow with the appropriate compiler flags.\n",
            "2021-09-04 11:31:27.058028: I tensorflow/core/common_runtime/process_util.cc:146] Creating new thread pool with default inter op setting: 2. Tune using inter_op_parallelism_threads for best performance.\n",
            "09/04/2021 11:31:27 AM: [ Creating TF graph... ]\n",
            "INFO:__main__:Creating TF graph...\n",
            "/usr/local/lib/python3.7/site-packages/tensorflow/python/keras/engine/base_layer_v1.py:1727: UserWarning: `layer.add_variable` is deprecated and will be removed in a future version. Please use `layer.add_weight` method instead.\n",
            "  warnings.warn('`layer.add_variable` is deprecated and '\n",
            "WARNING:tensorflow:From /usr/local/lib/python3.7/site-packages/tensorflow/python/keras/layers/legacy_rnn/rnn_cell_impl.py:981: calling Zeros.__init__ (from tensorflow.python.ops.init_ops) with dtype is deprecated and will be removed in a future version.\n",
            "Instructions for updating:\n",
            "Call initializer instance with the dtype argument instead of passing it to the constructor\n",
            "WARNING:tensorflow:From /usr/local/lib/python3.7/site-packages/tensorflow/python/keras/layers/legacy_rnn/rnn_cell_impl.py:981: calling Zeros.__init__ (from tensorflow.python.ops.init_ops) with dtype is deprecated and will be removed in a future version.\n",
            "Instructions for updating:\n",
            "Call initializer instance with the dtype argument instead of passing it to the constructor\n",
            "/usr/local/lib/python3.7/site-packages/tensorflow/python/keras/legacy_tf_layers/core.py:171: UserWarning: `tf.layers.dense` is deprecated and will be removed in a future version. Please use `tf.keras.layers.Dense` instead.\n",
            "  warnings.warn('`tf.layers.dense` is deprecated and '\n",
            "/usr/local/lib/python3.7/site-packages/tensorflow/python/keras/engine/base_layer_v1.py:1719: UserWarning: `layer.apply` is deprecated and will be removed in a future version. Please use `layer.__call__` method instead.\n",
            "  warnings.warn('`layer.apply` is deprecated and '\n",
            "WARNING:tensorflow:From mycode/model/trainer.py:61: div (from tensorflow.python.ops.math_ops) is deprecated and will be removed in a future version.\n",
            "Instructions for updating:\n",
            "Deprecated in favor of operator or tf.math.divide.\n",
            "WARNING:tensorflow:From mycode/model/trainer.py:61: div (from tensorflow.python.ops.math_ops) is deprecated and will be removed in a future version.\n",
            "Instructions for updating:\n",
            "Deprecated in favor of operator or tf.math.divide.\n",
            "09/04/2021 11:31:28 AM: [ TF graph creation done. ]\n",
            "INFO:__main__:TF graph creation done.\n",
            "Traceback (most recent call last):\n",
            "  File \"mycode/model/trainer.py\", line 803, in <module>\n",
            "    trainer.initialize(restore=model_path, sess=sess)\n",
            "  File \"mycode/model/trainer.py\", line 124, in initialize\n",
            "    return self.model_saver.restore(sess, restore)\n",
            "  File \"/usr/local/lib/python3.7/site-packages/tensorflow/python/training/saver.py\", line 1290, in restore\n",
            "    checkpoint_prefix)\n",
            "ValueError: The passed save_path is not a valid checkpoint: /home/ubuntu/PoLo/models/Hetionet/model.ckpt\n"
          ]
        }
      ]
    },
    {
      "cell_type": "markdown",
      "metadata": {
        "id": "b8tT4pRhouAL"
      },
      "source": [
        "### A simple path issue. Troubleshoot further accordingly"
      ]
    },
    {
      "cell_type": "code",
      "metadata": {
        "colab": {
          "base_uri": "https://localhost:8080/"
        },
        "id": "WvUkDuF9l05G",
        "outputId": "a5136051-4b07-4392-e1ac-1eb148adb02d"
      },
      "source": [
        "ls models/Hetionet/"
      ],
      "execution_count": 24,
      "outputs": [
        {
          "output_type": "stream",
          "name": "stdout",
          "text": [
            "model.ckpt.data-00000-of-00001  model.ckpt.index  model.ckpt.meta\n"
          ]
        }
      ]
    }
  ]
}